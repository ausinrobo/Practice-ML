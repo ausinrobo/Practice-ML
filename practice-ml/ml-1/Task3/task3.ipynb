{
 "cells": [
  {
   "cell_type": "code",
   "execution_count": null,
   "metadata": {},
   "outputs": [],
   "source": [
    "import pandas as pd\n",
    "raw_data = pd.read_excel('path/to/rawdata.xlsx')\n"
   ]
  },
  {
   "cell_type": "code",
   "execution_count": null,
   "metadata": {},
   "outputs": [],
   "source": [
    "raw_data['timestamp'] = pd.to_datetime(raw_data['timestamp'])\n",
    "raw_data['date'] = raw_data['timestamp'].dt.date\n",
    "\n",
    "# Date-wise total duration for each inside and outside\n",
    "duration_summary = raw_data.groupby(['date', 'location'])['duration'].sum().unstack().fillna(0)\n",
    "\n",
    "# Date-wise number of picking and placing activities\n",
    "activity_count = raw_data.groupby(['date', 'activity']).size().unstack().fillna(0)\n"
   ]
  },
  {
   "cell_type": "code",
   "execution_count": null,
   "metadata": {},
   "outputs": [],
   "source": [
    "duration_summary.to_excel('duration_summary.xlsx')\n",
    "activity_count.to_excel('activity_count.xlsx')\n"
   ]
  }
 ],
 "metadata": {
  "language_info": {
   "name": "python"
  }
 },
 "nbformat": 4,
 "nbformat_minor": 2
}
